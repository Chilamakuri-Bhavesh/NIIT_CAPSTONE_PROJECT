{
 "cells": [
  {
   "cell_type": "markdown",
   "id": "65d52cbb",
   "metadata": {},
   "source": [
    "# check stationary "
   ]
  },
  {
   "cell_type": "code",
   "execution_count": 2,
   "id": "16a094e8",
   "metadata": {},
   "outputs": [],
   "source": [
    "def checkstationary(data):\n",
    "    '''data : pass daatframe to check to by stationary '''\n",
    "    from statsmodels.tsa.stattools import adfuller\n",
    "    pvalue = adfuller(data)[1]\n",
    "    print(\"pvalue : \",pvalue)\n",
    "    if pvalue<0.05 :\n",
    "        print('Data is Stationary')\n",
    "    else : \n",
    "        print(\"Data is not Stationary\")"
   ]
  },
  {
   "cell_type": "markdown",
   "id": "c5ab2619",
   "metadata": {},
   "source": [
    "## LJUNG BOX "
   ]
  },
  {
   "cell_type": "code",
   "execution_count": 3,
   "id": "55b4f0d5",
   "metadata": {},
   "outputs": [],
   "source": [
    "def ljung(model):\n",
    "    '''model : pass the model to check for LJung box test '''\n",
    "    import statsmodels.api as sm\n",
    "    import statsmodels.tsa.stattools as sts \n",
    "    pvalue = sm.stats.acorr_ljungbox(model.resid , lags = [1],return_df = True)['lb_pvalue'].values\n",
    "    print(\"pvalue : \",pvalue)\n",
    "    if pvalue < 0.05:\n",
    "        print(\"Reject Ho -> bad model\")\n",
    "    else : \n",
    "        print(\"Accept Ho -> good model\")"
   ]
  },
  {
   "cell_type": "markdown",
   "id": "9883ff40",
   "metadata": {},
   "source": [
    "## PERFORMANCE CHECK "
   ]
  },
  {
   "cell_type": "code",
   "execution_count": 9,
   "id": "f2cfcb4d",
   "metadata": {},
   "outputs": [],
   "source": [
    "def performance(test , prediction):\n",
    "    '''test : acutaul dataset to be tested , \n",
    "       prediction : redicted dataset ,\n",
    "        returns  : MSE , RMSE '''\n",
    "    from sklearn.metrics import mean_squared_error\n",
    "    print(\"MSE : \",mean_squared_error(test,prediction))\n",
    "    print(\"RMSE : \",mean_squared_error(test,prediction,squared = False))"
   ]
  },
  {
   "cell_type": "markdown",
   "id": "511ca632",
   "metadata": {},
   "source": [
    "## SARIMA "
   ]
  },
  {
   "cell_type": "code",
   "execution_count": 2,
   "id": "8f705f81",
   "metadata": {},
   "outputs": [],
   "source": [
    "def sarima(df,i,j,p,q,d,D,m):\n",
    "    '''df : dataframe , \n",
    "    i : Q RANGE , j : P RANGE ,\n",
    "    p :AR(p) , q : MA(q) , d : differencing of arima , D :differencing of sarima , m :seasonal frequency '''\n",
    "    import statsmodels.api as sm\n",
    "    for Q in range(1,i):\n",
    "        for P in range(1,j):\n",
    "            model = sm.tsa.statespace.SARIMAX(df,order = (p,d,q),seasonal_order=(P,D,Q,m)).fit()\n",
    "            print(f\"P : {P} , Q : {Q}, AIC : \",model.aic\")"
   ]
  },
  {
   "cell_type": "markdown",
   "id": "05a534cf",
   "metadata": {},
   "source": [
    "## ARIMA "
   ]
  },
  {
   "cell_type": "code",
   "execution_count": 14,
   "id": "b6cba7d3",
   "metadata": {},
   "outputs": [],
   "source": [
    "def arima(df,i,j,d):\n",
    "        '''df : dataframe , \n",
    "            i : p RANGE , j : q RANGE ,\n",
    "            d = : differencing '''\n",
    "        import warnings \n",
    "        warnings.filterwarnings(\"ignore\")\n",
    "        from statsmodels.tsa.arima.model import ARIMA\n",
    "        for p in range(1,i):\n",
    "            for q in range(1,j):\n",
    "                model = ARIMA(df , order = (p,d,q)).fit()\n",
    "                print(f\"p : {p}, q : {q}, AIC : \",model.aic)"
   ]
  },
  {
   "cell_type": "markdown",
   "id": "492222ba",
   "metadata": {},
   "source": [
    "## ARMA "
   ]
  },
  {
   "cell_type": "code",
   "execution_count": 15,
   "id": "bf18d825",
   "metadata": {},
   "outputs": [],
   "source": [
    "def arma(df,i,j):\n",
    "        '''df : dataframe , \n",
    "            i : p RANGE , j : q RANGE ,\n",
    "            d = : differencing '''\n",
    "        import warnings \n",
    "        warnings.filterwarnings(\"ignore\")\n",
    "        from statsmodels.tsa.arima.model import ARIMA\n",
    "        for p in range(1,i):\n",
    "            for q in range(1,j):\n",
    "                model = ARIMA(df , order = (p,0,q)).fit()\n",
    "                print(f\"p : {p}, q : {q}, AIC : \",model.aic)"
   ]
  },
  {
   "cell_type": "code",
   "execution_count": null,
   "id": "d822f6c5",
   "metadata": {},
   "outputs": [],
   "source": []
  }
 ],
 "metadata": {
  "kernelspec": {
   "display_name": "Python 3 (ipykernel)",
   "language": "python",
   "name": "python3"
  },
  "language_info": {
   "codemirror_mode": {
    "name": "ipython",
    "version": 3
   },
   "file_extension": ".py",
   "mimetype": "text/x-python",
   "name": "python",
   "nbconvert_exporter": "python",
   "pygments_lexer": "ipython3",
   "version": "3.9.15"
  }
 },
 "nbformat": 4,
 "nbformat_minor": 5
}
