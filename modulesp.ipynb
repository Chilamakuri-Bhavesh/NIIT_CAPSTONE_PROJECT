{
 "cells": [
  {
   "cell_type": "code",
   "execution_count": 1,
   "id": "375dff19",
   "metadata": {},
   "outputs": [],
   "source": [
    "def load_data(path1 , path2):\n",
    "    '''pass the two paths'''\n",
    "    import warnings\n",
    "    warnings.filterwarnings(\"ignore\")\n",
    "    import pandas as pd\n",
    "    df1 = pd.read_json(path1,lines=True)\n",
    "    df2 =pd.read_json(path2,lines = True)\n",
    "    df = pd.merge(df1,df2,on = 'asin')\n",
    "    df.drop(['imageURLHighRes','imageURL','vote','image','tech2','tech1','similar_item','date','category','feature','main_cat','description','fit'],axis = 1 , inplace = True)\n",
    "    df.dropna(inplace = True)\n",
    "    import numpy as np \n",
    "    df.index = np.arange(140833)  # resest index \n",
    "    return df"
   ]
  },
  {
   "cell_type": "code",
   "execution_count": 2,
   "id": "9a065b77",
   "metadata": {},
   "outputs": [],
   "source": [
    "def visual(df,col1,col2):\n",
    "    import matplotlib.pyplot as plt \n",
    "    import seaborn as sns\n",
    "    plt.subplot(1,2,1)\n",
    "    sns.countplot(df[col1]);\n",
    "    plt.title(\"overall ration(1-5)\",size = 20,c = 'red');\n",
    "    plt.xlabel(\"Ratings\",size = 15);\n",
    "    plt.subplot(1,2,2)\n",
    "    sns.countplot(df[col2]);\n",
    "    plt.title(\"reviews verify\",size = 20,c = 'red');\n",
    "    plt.xlabel(\"verification\",size = 15);\n",
    "    plt.tight_layout();"
   ]
  },
  {
   "cell_type": "code",
   "execution_count": 3,
   "id": "79736fe0",
   "metadata": {},
   "outputs": [],
   "source": [
    "def info(df):\n",
    "    print(df.shape)\n",
    "    print(\"\\n##########################################################\\n\")\n",
    "    print(df.dtypes)\n",
    "    print(\"\\n##########################################################\\n\")\n",
    "    print(df.info())\n",
    "    print(\"\\n##########################################################\\n\")\n",
    "    print(df.describe())\n",
    "    print(\"\\n##########################################################\\n\")\n",
    "    print(df.isnull().sum())"
   ]
  },
  {
   "cell_type": "code",
   "execution_count": 5,
   "id": "8abc86a1",
   "metadata": {},
   "outputs": [],
   "source": [
    "def price_cleaning(col):\n",
    "    import re \n",
    "    text = re.sub(\"\\$\",'',col)\n",
    "    text = re.sub(\"\\,\",\"\",text)        \n",
    "    text = text.strip()\n",
    "    text = float(text)\n",
    "    return text "
   ]
  },
  {
   "cell_type": "code",
   "execution_count": 8,
   "id": "aa9529b4",
   "metadata": {},
   "outputs": [],
   "source": [
    "def price_visual(df,col):\n",
    "    import matplotlib.pyplot as plt \n",
    "    import seaborn as sns\n",
    "    plt.figure(figsize=(8,3))\n",
    "    plt.subplot(1,2,1)\n",
    "    sns.boxenplot(df[col]);\n",
    "    plt.subplot(1,2,2)\n",
    "    sns.distplot(df[col]);\n",
    "    plt.tight_layout();"
   ]
  },
  {
   "cell_type": "code",
   "execution_count": 9,
   "id": "959aa6d1",
   "metadata": {},
   "outputs": [],
   "source": [
    "def rank_cleaning(col):\n",
    "    import re \n",
    "    text = col.strip()\n",
    "    text = re.sub('\\,','',text)\n",
    "    text = re.sub('\\;',',',text)\n",
    "    text = re.sub(r\"[^a-zA-Z\\&\\,\\s+]\",\"\",text)\n",
    "    text = text.strip()\n",
    "    text = text.lstrip()[2:]\n",
    "    return text"
   ]
  },
  {
   "cell_type": "code",
   "execution_count": 11,
   "id": "43c610bd",
   "metadata": {},
   "outputs": [],
   "source": [
    "def rank_category_clean(df1):\n",
    "    import numpy as np \n",
    "    import matplotlib.pyplot as plt \n",
    "    import seaborn as sns\n",
    "    import pandas as pd\n",
    "    index = np.where(df1['rank_category'] == ' Books')\n",
    "    index = index[0]\n",
    "    df1 = df1.drop(index,axis = 0)\n",
    "    sns.countplot(df1['rank_category']);\n",
    "    print(df1['rank_category'].value_counts())\n",
    "    print(\"################################################################\")\n",
    "    return df1"
   ]
  },
  {
   "cell_type": "code",
   "execution_count": 13,
   "id": "a9f49b7c",
   "metadata": {},
   "outputs": [],
   "source": [
    "def rank_num_cleaning(col):\n",
    "    import re \n",
    "    text = re.sub(r\"[^0-9]\",\"\",col)\n",
    "    text = re.sub('\\,','',text)\n",
    "    text = text.strip()\n",
    "    text = int(text)\n",
    "    return text"
   ]
  },
  {
   "cell_type": "code",
   "execution_count": 14,
   "id": "57ab16b9",
   "metadata": {},
   "outputs": [],
   "source": [
    "def rank_num_visual(df1):\n",
    "    import numpy as np \n",
    "    import matplotlib.pyplot as plt \n",
    "    import seaborn as sns\n",
    "    import pandas as pd\n",
    "    sns.distplot(df1['rank_num']);\n",
    "    df1.drop(['rank','Unnamed: 0'],axis = 1,inplace = True)\n",
    "    df1.index = np.arange(91700)\n",
    "    return df1"
   ]
  },
  {
   "cell_type": "code",
   "execution_count": 15,
   "id": "5ef5ecb5",
   "metadata": {},
   "outputs": [],
   "source": [
    "def review_time(col):\n",
    "    import re\n",
    "    text = re.sub(\"\\,\",\"\",col)\n",
    "    text = re.sub(\"\\s+\",\"-\",text)\n",
    "    text = text.strip()\n",
    "    return text"
   ]
  },
  {
   "cell_type": "code",
   "execution_count": 17,
   "id": "f96e01b2",
   "metadata": {},
   "outputs": [],
   "source": [
    "def review_time_clean(df1,col):\n",
    "    import numpy as np \n",
    "    import matplotlib.pyplot as plt \n",
    "    import seaborn as sns\n",
    "    import pandas as pd\n",
    "    df1['reviewTime'] = pd.to_datetime(df1[col])\n",
    "    df1.sort_values(by = ['reviewTime'],inplace= True)\n",
    "    df1.index = np.arange(91700)\n",
    "    return df1"
   ]
  },
  {
   "cell_type": "code",
   "execution_count": 19,
   "id": "8e8c139f",
   "metadata": {},
   "outputs": [],
   "source": [
    "def style_clean(col):\n",
    "    import re\n",
    "    text = col.lstrip()[12:]\n",
    "    text = re.sub(\"[\\},\\']\",\"\",text)\n",
    "    text = text.strip()\n",
    "    return text"
   ]
  },
  {
   "cell_type": "code",
   "execution_count": 20,
   "id": "4d45df72",
   "metadata": {},
   "outputs": [],
   "source": [
    "def style_visual(df1):\n",
    "    import numpy as np \n",
    "    import matplotlib.pyplot as plt \n",
    "    import seaborn as sns\n",
    "    import pandas as pd\n",
    "    sns.countplot(df1['style']);\n",
    "    plt.xticks(rotation = 90);\n",
    "    print(df1['style'].value_counts())\n",
    "    print(\"###################################################################\")\n",
    "    df1.dropna(inplace = True)\n",
    "    print(df1.shape)\n",
    "    print(\"###################################################################\")\n",
    "    return df1"
   ]
  },
  {
   "cell_type": "code",
   "execution_count": 21,
   "id": "dfe4964b",
   "metadata": {},
   "outputs": [],
   "source": [
    "def uniexreviewtime(col):\n",
    "    import datetime\n",
    "    text = datetime.datetime.fromtimestamp(col).isoformat()\n",
    "    return text"
   ]
  },
  {
   "cell_type": "code",
   "execution_count": 23,
   "id": "ecf0c97b",
   "metadata": {},
   "outputs": [],
   "source": [
    "def details_label(str1):\n",
    "    import re\n",
    "    val = str1.find(\"Label\")\n",
    "    if val<0:\n",
    "        return 'NA'\n",
    "    elif val>=0:\n",
    "        str2 = str1.split(\"Label:\",1)[1]\n",
    "        str3 =  str2.split(',')[0]\n",
    "        str3 = re.sub(r\"[^a-zA-Z]\",\" \",str3)\n",
    "        str3 = re.sub(\"\\s+\",\" \",str3)\n",
    "        str3 = str3.strip()\n",
    "        return str3"
   ]
  },
  {
   "cell_type": "code",
   "execution_count": 24,
   "id": "d1594715",
   "metadata": {},
   "outputs": [],
   "source": [
    "def label_clean(df1):\n",
    "    import pandas as pd\n",
    "    import numpy as np \n",
    "    df1.index = np.arange(82390)\n",
    "    index = np.where(df1.Label == 'IMPORTS')\n",
    "    for i in index:\n",
    "        df1.loc[i,'Label'] = 'Import' \n",
    "    index = np.where(df1.Label == 'Universal Japan')\n",
    "    for i in index:\n",
    "        df1.loc[i,'Label'] = 'UNIVERSAL MUSIC JAPAN'\n",
    "    print(df1.Label.value_counts())\n",
    "    df1.drop(['details','also_view','also_buy'],axis = 1,inplace = True)\n",
    "    return df1"
   ]
  },
  {
   "cell_type": "code",
   "execution_count": 2,
   "id": "f7f898c5",
   "metadata": {},
   "outputs": [],
   "source": [
    "def reviews_cleaning(text):\n",
    "    import re \n",
    "    # Remove all non-letters and non-spaces except for hyphens and digits\n",
    "    text = re.sub(\"[^0-9A-Za-z\\- ]+\", \" \", text)\n",
    "    # Remove all numbers except those attached to a word\n",
    "    text = re.sub(\"(?<!\\w)\\d+\", \"\", text)\n",
    "    # Remove all hyphens except between two words\n",
    "    text = re.sub(\"-(?!\\w)|(?<!\\w)-\", \"\", text)\n",
    "    # Remove multiple spaces and lowercase everything\n",
    "    text = \" \".join(text.split())\n",
    "    text = text.lower()\n",
    "    return text"
   ]
  },
  {
   "cell_type": "code",
   "execution_count": 3,
   "id": "7f0ba5ef",
   "metadata": {},
   "outputs": [],
   "source": [
    "def tfidf(df,col):\n",
    "    from sklearn.feature_extraction.text import TfidfVectorizer\n",
    "    vectorizer = TfidfVectorizer(stop_words=\"english\")\n",
    "    # Compute the TF-IDF matrix\n",
    "    tfidf_matrix = vectorizer.fit_transform(df[col])\n",
    "    review_num=[]\n",
    "    for i in tfidf_matrix:\n",
    "        review_num.append(i.toarray().sum())\n",
    "    return review_num"
   ]
  },
  {
   "cell_type": "code",
   "execution_count": 4,
   "id": "2546188d",
   "metadata": {},
   "outputs": [],
   "source": [
    "def label_encoding(df , col):\n",
    "    from sklearn import preprocessing\n",
    "    label_encoder = preprocessing.LabelEncoder()  # object is made of method\n",
    "    df[col]=label_encoder.fit_transform(df[col])  \n",
    "    return df[col]"
   ]
  },
  {
   "cell_type": "code",
   "execution_count": 6,
   "id": "444642ee",
   "metadata": {},
   "outputs": [],
   "source": [
    "def normalization(df):\n",
    "    import pandas as pd\n",
    "    from sklearn.preprocessing import MinMaxScaler\n",
    "    scalar_again = MinMaxScaler()   # call the method\n",
    "    df_scaled = pd.DataFrame(scalar_again.fit_transform(df),columns=df.columns)\n",
    "    return df_scaled"
   ]
  },
  {
   "cell_type": "code",
   "execution_count": 10,
   "id": "709759d4",
   "metadata": {},
   "outputs": [],
   "source": [
    "def seasonal(df,period):\n",
    "    import matplotlib.pyplot as plt\n",
    "    from statsmodels.tsa.seasonal import seasonal_decompose \n",
    "    seasonal_decompose(df,period = int(period)).plot();"
   ]
  },
  {
   "cell_type": "code",
   "execution_count": 1,
   "id": "4d1fc884",
   "metadata": {},
   "outputs": [],
   "source": [
    "def clustering(df1 , col1 , col2):\n",
    "    from sklearn.cluster import KMeans\n",
    "    import pandas as pd\n",
    "    import numpy as np \n",
    "    x = np.array(df1.loc[:,[col1,col2]]).reshape(-1,2)\n",
    "    model = KMeans(n_clusters = 3)\n",
    "    model.fit(x)\n",
    "    df1['kmean_polarity']=model.labels_\n",
    "    df1['kmean_polarity'].replace(to_replace=[0,2,1], value=[\"positive\",\"neutral\",\"negative\"],inplace=True)\n",
    "    import seaborn as sns \n",
    "    import matplotlib.pyplot as plt\n",
    "    sns.scatterplot(x = df1[col1], y = df1[col2] ,  hue = df1['kmean_polarity'],palette='Set1');\n",
    "    plt.show();"
   ]
  },
  {
   "cell_type": "code",
   "execution_count": 1,
   "id": "0a0edbf7",
   "metadata": {},
   "outputs": [],
   "source": [
    "def load_data_musical(path1 , path2):\n",
    "    '''pass the two paths'''\n",
    "    import warnings\n",
    "    warnings.filterwarnings(\"ignore\")\n",
    "    import pandas as pd\n",
    "    df1 = pd.read_json(path1,lines=True)\n",
    "    df2 =pd.read_json(path2,lines = True)\n",
    "    df = pd.merge(df1,df2,on = 'asin',how = 'inner')\n",
    "    df.drop([\"fit\",\"tech1\",\"also_buy\",\"also_view\",\"similar_item\",\"imageURL\",\"imageURLHighRes\",\"tech2\",\"details\",\"vote\",\"unixReviewTime\",\"image\"],axis=1,inplace=True)\n",
    "    df.dropna(inplace = True)\n",
    "    len1 = len(df)\n",
    "    import numpy as np \n",
    "    df.index = np.arange(len1)  # resest index \n",
    "    return df"
   ]
  },
  {
   "cell_type": "code",
   "execution_count": 7,
   "id": "3ab638b4",
   "metadata": {},
   "outputs": [],
   "source": [
    "def products(data):          #FETCHING PRODUCTS FROM CATEGORY COLUMN\n",
    "    import re \n",
    "    from collections import Counter\n",
    "    from nltk.tokenize import sent_tokenize, word_tokenize\n",
    "    y=re.sub(\"[\\'\\,\\&]\",\"\",str(data))\n",
    "    most_common_list = Counter(word_tokenize(y)).most_common(1)\n",
    "    return most_common_list "
   ]
  },
  {
   "cell_type": "code",
   "execution_count": 8,
   "id": "c376fd40",
   "metadata": {},
   "outputs": [],
   "source": [
    "def product_clean(data):                                           # TO CLEAN THE PRODUCT COLUMNS\n",
    "    import re \n",
    "    t=re.sub(\"[\\[\\]\\(\\)\\,\\d\\']\",\"\",str(data))\n",
    "    \n",
    "    return t"
   ]
  },
  {
   "cell_type": "code",
   "execution_count": 11,
   "id": "e02e72eb",
   "metadata": {},
   "outputs": [],
   "source": [
    "def replace_products(text):\n",
    "    import re \n",
    "    text=re.sub(\"(Accessories|Microphones|Recording|amp|Studio|Amplifiers|Keybords|Mixers|Speakers|Lighting|Processors|Electronic|Recorders)\",\"Accessories\",str(text))\n",
    "    text=re.sub(\"(Guitars|Ukuleles|Violins|Violas|Cellos|Banjos|Mandolins)\",\"String Instruments\",text)\n",
    "    text=re.sub(\"(Precussion|Drums|Drum)\",\"Precussion Instruments\",text)\n",
    "    text=re.sub(\"(Effects|Stage|Instruments|DJ|dj|Karaoke|Strobe|and|Instrument|with|AC|Upright|Chimes|French|nylon)\",\"Others\",text)\n",
    "    return text"
   ]
  },
  {
   "cell_type": "code",
   "execution_count": 12,
   "id": "fe591855",
   "metadata": {},
   "outputs": [],
   "source": [
    "def style(str1):\n",
    "    import re \n",
    "    str1=str(str1)\n",
    "    val = str1.find(\"Style:\")\n",
    "    if val<0:\n",
    "        return 'NA'\n",
    "    elif val>=0:\n",
    "        str2 = str1.split(\"Style:\",1)[1]\n",
    "        str3 =  str2.split(',')[0]\n",
    "        str3 = re.sub(r\"[^a-zA-Z]\",\" \",str3)\n",
    "        str3 = re.sub(\"\\s+\",\" \",str3)\n",
    "        str3 = str3.strip()\n",
    "        return str3"
   ]
  },
  {
   "cell_type": "code",
   "execution_count": 13,
   "id": "eea156f5",
   "metadata": {},
   "outputs": [],
   "source": [
    "def color(str1):\n",
    "    import re\n",
    "    str1=str(str1)\n",
    "    val = str1.find(\"Color:\")\n",
    "    if val<0:\n",
    "        return 'NA'\n",
    "    elif val>=0:\n",
    "        str2 = str1.split(\"Color:\",1)[1]\n",
    "        str3 =  str2.split(',')[0]\n",
    "        str3 = re.sub(r\"[^a-zA-Z]\",\" \",str3)\n",
    "        str3 = re.sub(\"\\s+\",\" \",str3)\n",
    "        str3 = str3.strip()\n",
    "        return str3"
   ]
  },
  {
   "cell_type": "code",
   "execution_count": 14,
   "id": "8b6509eb",
   "metadata": {},
   "outputs": [],
   "source": [
    "def format(str1):\n",
    "    import re \n",
    "    str1=str(str1)\n",
    "    val = str1.find(\"Format:\")\n",
    "    if val<0:\n",
    "        return 'NA'\n",
    "    elif val>=0:\n",
    "        str2 = str1.split(\"Format:\",1)[1]\n",
    "        str3 =  str2.split(',')[0]\n",
    "        str3 = re.sub(r\"[^a-zA-Z]\",\" \",str3)\n",
    "        str3 = re.sub(\"\\s+\",\" \",str3)\n",
    "        str3 = str3.strip()\n",
    "        return str3"
   ]
  },
  {
   "cell_type": "code",
   "execution_count": 16,
   "id": "ae8fd8a7",
   "metadata": {},
   "outputs": [],
   "source": [
    "def rank_clean(text):\n",
    "    import re \n",
    "    text=re.sub(\"[\\>#\\,\\(\\)]\",\"\",text)\n",
    "    text=re.search(\"\\d+\",text)\n",
    "    return text"
   ]
  },
  {
   "cell_type": "code",
   "execution_count": 17,
   "id": "e1ca8163",
   "metadata": {},
   "outputs": [],
   "source": [
    "def rank_clean1(text):\n",
    "    text = text.group()\n",
    "    return text"
   ]
  },
  {
   "cell_type": "code",
   "execution_count": 18,
   "id": "3a42fb13",
   "metadata": {},
   "outputs": [],
   "source": [
    "def musical(string):     #grouping the categories\n",
    "    import re \n",
    "    string=re.sub(r'(Precussion Others|Keyboards|Percussion)','Percussion Instruments',string)\n",
    "    string=re.sub(r'(String Others|Others)','String Instruments',string)\n",
    "    return string "
   ]
  },
  {
   "cell_type": "code",
   "execution_count": 1,
   "id": "541ea9a7",
   "metadata": {},
   "outputs": [],
   "source": [
    "def clusteringg(df1 , col1 , col2):\n",
    "    from sklearn.cluster import KMeans\n",
    "    import pandas as pd\n",
    "    import numpy as np \n",
    "    x = np.array(df1.loc[:,[col1,col2]]).reshape(-1,2)\n",
    "    model = KMeans(n_clusters = 3)\n",
    "    model.fit(x)\n",
    "    df1['kmean_polarity']=model.labels_\n",
    "    df1['kmean_polarity'].replace(to_replace=[0,2,1], value=[\"neutral\",\"negative\",\"positive\"],inplace=True)\n",
    "    import seaborn as sns \n",
    "    import matplotlib.pyplot as plt\n",
    "    sns.scatterplot(x = df1[col1], y = df1[col2] ,  hue = df1['kmean_polarity'],palette='Set1');\n",
    "    plt.show();"
   ]
  },
  {
   "cell_type": "code",
   "execution_count": 1,
   "id": "1e390d3f",
   "metadata": {},
   "outputs": [],
   "source": [
    "def visual(name , df,df1):\n",
    "    import matplotlib.pyplot as plt \n",
    "    plt.figure(figsize=(20,5))\n",
    "    plt.plot(df,label='Historical Data',linewidth=3)\n",
    "    plt.plot(df1['overall'],color='orange',label='Predicted Data',linewidth=3)\n",
    "    plt.title(f'Predictions of {name}')\n",
    "    plt.legend()\n",
    "    plt.xlabel(\"Years\")\n",
    "    plt.ylabel(\"Ratings\");"
   ]
  },
  {
   "cell_type": "code",
   "execution_count": null,
   "id": "5f11221a",
   "metadata": {},
   "outputs": [],
   "source": []
  }
 ],
 "metadata": {
  "kernelspec": {
   "display_name": "Python 3 (ipykernel)",
   "language": "python",
   "name": "python3"
  },
  "language_info": {
   "codemirror_mode": {
    "name": "ipython",
    "version": 3
   },
   "file_extension": ".py",
   "mimetype": "text/x-python",
   "name": "python",
   "nbconvert_exporter": "python",
   "pygments_lexer": "ipython3",
   "version": "3.9.15"
  }
 },
 "nbformat": 4,
 "nbformat_minor": 5
}
